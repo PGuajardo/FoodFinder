{
 "cells": [
  {
   "cell_type": "markdown",
   "id": "c56fb4df",
   "metadata": {},
   "source": [
    "# Food Finder w/ Google APi\n",
    "#### Using Google API Here is the testing grounds of working with our python script\n",
    "#### Here we create a google api client to pull requests we willl use this class client to operate more on our calls"
   ]
  },
  {
   "cell_type": "markdown",
   "id": "c3620577",
   "metadata": {},
   "source": [
    "# Goals\n",
    " - Enrich a pandas with information using class \"client\"\n",
    " - Automate more of the client via automating end points since it repeats\n",
    " - Set up for user input such as \"location queary\""
   ]
  },
  {
   "cell_type": "code",
   "execution_count": 2,
   "id": "69f03caf",
   "metadata": {},
   "outputs": [],
   "source": [
    "import googlemaps #Uses google api\n",
    "import env\n",
    "\n",
    "#import pandas as pd (For dataframe use for saving favorite spots?)\n",
    "\n",
    "#encoding url\n",
    "from urllib.parse import urlencode\n",
    "from pandas.core import base\n",
    "#requests to server?\n",
    "import requests"
   ]
  },
  {
   "cell_type": "code",
   "execution_count": 17,
   "id": "6933c545",
   "metadata": {},
   "outputs": [],
   "source": [
    "class GoogleMapsClient(object):\n",
    "    lat = None,\n",
    "    lng = None\n",
    "\n",
    "    data_type = \"json\"\n",
    "    location_query = None\n",
    "    api_key = None \n",
    "\n",
    "    def __init__(self , api_key = None, address_or_postal_code = None, *args, **kwargs):\n",
    "        super().__init__(*args, **kwargs)\n",
    "        if api_key == None:\n",
    "            raise Exception(\"API KEY IS REQUIRED!\")\n",
    "        self.api_key = api_key\n",
    "        self.location_query = address_or_postal_code\n",
    "        if self.location_query != None:\n",
    "            self.extract_lat_long()\n",
    "\n",
    "\n",
    "\n",
    "    # Gets Lat and long\n",
    "    def extract_lat_long(self):\n",
    "        location_query = self.location_query\n",
    "        #if location != None:\n",
    "        #    location_query = location\n",
    "\n",
    "        endpoint = f\"https://maps.googleapis.com/maps/api/geocode/{self.data_type}\"\n",
    "        params = {\"address\": location_query, \"key\": self.api_key}\n",
    "\n",
    "        url_params = urlencode(params)\n",
    "        url = f\"{endpoint}?{url_params}\"\n",
    "\n",
    "        req = requests.get(url)\n",
    "        if req.status_code not in range(200,299):\n",
    "            return {}\n",
    "        lat_long = {}\n",
    "        try:\n",
    "            lat_long = req.json()['results'][0]['geometry']['location']\n",
    "        except:\n",
    "            pass\n",
    "        lat, lng = lat_long.get('lat'), lat_long.get('lng')\n",
    "        self.lat = lat\n",
    "        self.lng = lng\n",
    "        return lat, lng\n",
    "\n",
    "    # Gets list of locations nearby\n",
    "    def search(self, keyword= \"Mexican food\", location = None, radius = 1000):\n",
    "        lat, lng = self.lat, self.lng\n",
    "        if location != None:\n",
    "            lat, lng = self.extract_lat_long(location = location)\n",
    "        endpoint = f\"https://maps.googleapis.com/maps/api/place/nearbysearch/{self.data_type}\"\n",
    "        params = {\"key\": self.api_key,\n",
    "            \"location\": f\"{lat}, {lng}\",\n",
    "            \"radius\": radius,\n",
    "            \"keyword\" : keyword\n",
    "        }\n",
    "        params_encoded = urlencode(params)\n",
    "\n",
    "        places_url = f\"{endpoint}?{params_encoded}\"\n",
    "\n",
    "        r = requests.get(places_url)\n",
    "        if r.status_code not in range(200,299):\n",
    "            return {}\n",
    "        return r.json()\n",
    "\n",
    "    # Gets detail locations from place (name, rating, phone number, and address)\n",
    "    # need a location Id\n",
    "    def deatil(self, place_id = \"\", fields = [\"name\", \"rating\", \"formatted_phone\", \"formatted_address\"]):\n",
    "        detail_base_endPoint = \"https://maps.googleapis.com/maps/api/place/details/{self.data_type}\"\n",
    "        detail_params = {\n",
    "            \"place_id\" : f\"{place_id}\",\n",
    "            \"fields\" : \",\".join(fields),\n",
    "            \"key\" : self.api_key\n",
    "        }\n",
    "        detail_params_encoded = urlencode(detail_params)\n",
    "        detail_url = f\"{detail_base_endPoint}?{detail_params_encoded}\"\n",
    "        r = requests.get(detail_url)\n",
    "        if r.status_code not in range(200,299):\n",
    "            return {}\n",
    "        return r.json()\n"
   ]
  },
  {
   "cell_type": "code",
   "execution_count": 18,
   "id": "b340efe2",
   "metadata": {},
   "outputs": [],
   "source": [
    "Google_Api_Key = env.AKI_KEY"
   ]
  },
  {
   "cell_type": "code",
   "execution_count": 19,
   "id": "e023395b",
   "metadata": {},
   "outputs": [
    {
     "name": "stdout",
     "output_type": "stream",
     "text": [
      "29.4295234 -98.4976116\n"
     ]
    }
   ],
   "source": [
    "client = GoogleMapsClient(api_key = Google_Api_Key, address_or_postal_code= 'San Antonio, TX')\n",
    "print(client.lat, client.lng)"
   ]
  },
  {
   "cell_type": "code",
   "execution_count": null,
   "id": "7818e230",
   "metadata": {},
   "outputs": [],
   "source": []
  }
 ],
 "metadata": {
  "kernelspec": {
   "display_name": "Python 3 (ipykernel)",
   "language": "python",
   "name": "python3"
  },
  "language_info": {
   "codemirror_mode": {
    "name": "ipython",
    "version": 3
   },
   "file_extension": ".py",
   "mimetype": "text/x-python",
   "name": "python",
   "nbconvert_exporter": "python",
   "pygments_lexer": "ipython3",
   "version": "3.10.2"
  }
 },
 "nbformat": 4,
 "nbformat_minor": 5
}
